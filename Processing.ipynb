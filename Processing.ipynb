{
 "cells": [
  {
   "cell_type": "code",
   "execution_count": 1,
   "metadata": {},
   "outputs": [],
   "source": [
    "import pandas as pd\n",
    "from pymongo import MongoClient\n",
    "import math\n",
    "import numpy as np"
   ]
  },
  {
   "cell_type": "code",
   "execution_count": 2,
   "metadata": {},
   "outputs": [],
   "source": [
    "client = MongoClient()\n",
    "db = client[\"search_engine\"]"
   ]
  },
  {
   "cell_type": "code",
   "execution_count": 3,
   "metadata": {},
   "outputs": [],
   "source": [
    "%run -i \"utilities.py\""
   ]
  },
  {
   "cell_type": "code",
   "execution_count": 4,
   "metadata": {},
   "outputs": [],
   "source": [
    "def get_matching_docs(words, stems) :\n",
    "    stem_df = pd.DataFrame(db.stem_frequency_logs.find({\"stem\" : {\"$in\" : stems}}, {\"_id\" : 0}))\n",
    "    df_counts = pd.DataFrame(stem_df.value_counts(\"stem\"))\n",
    "    df_counts[\"stem\"] = df_counts.index\n",
    "    df_counts.reset_index(drop = True, inplace = True)\n",
    "    no_docs = pd.DataFrame(db.updated_logs.find({},{\"filename\" : 1})).count()[0]\n",
    "    df_counts.columns = [\"no_data\",\"stem\"]\n",
    "    df_counts[\"idf\"] = df_counts[\"no_data\"].apply(lambda x : math.log(no_docs / x))\n",
    "    \n",
    "    merged_df = df_counts.merge(stem_df, left_on = \"stem\", right_on = \"stem\")\n",
    "    merged_df[\"tf_idf\"] = merged_df[\"term_frequency\"] * merged_df[\"idf\"]\n",
    "    merged_df.drop([\"idf\", \"term_frequency\", \"no_data\"], axis = 1, inplace = True)\n",
    "    \n",
    "    word_df = pd.DataFrame(db.word_frequency_logs.find({\"word\" : {\"$in\" : words}}, {\"_id\" : 0}))\n",
    "    df_counts = pd.DataFrame(word_df.value_counts(\"word\"))\n",
    "    df_counts[\"word\"] = df_counts.index\n",
    "    df_counts.reset_index(drop = True, inplace = True)\n",
    "    df_counts.columns = [\"no_data\", \"word\"]\n",
    "    df_counts[\"idf\"] = df_counts[\"no_data\"].apply(lambda x : math.log(no_docs / x))\n",
    "                           \n",
    "    merged_df_2 = df_counts.merge(word_df, left_on = \"word\", right_on = \"word\")\n",
    "    merged_df_2[\"tf_idf\"] = merged_df_2[\"term_frequency\"] * merged_df_2[\"idf\"]\n",
    "    merged_df_2.drop([\"idf\", \"term_frequency\", \"no_data\"], axis = 1, inplace = True)\n",
    "    return merged_df, merged_df_2"
   ]
  },
  {
   "cell_type": "code",
   "execution_count": 11,
   "metadata": {
    "scrolled": true
   },
   "outputs": [],
   "source": [
    "def get_scores(words, stems) :\n",
    "    df, df2 = get_matching_docs(words, stems)\n",
    "    df = pd.DataFrame(df.groupby(\"filename\").tf_idf.agg(sum))\n",
    "    df.reset_index(inplace = True)\n",
    "    df2 = pd.DataFrame(df2.groupby(\"filename\").tf_idf.agg(sum))\n",
    "    df2.reset_index(inplace = True)\n",
    "    merged_df = df.merge(df2, how = \"outer\", on = \"filename\")\n",
    "    merged_df.replace(np.nan, 0, inplace = True)\n",
    "    merged_df[\"tf_idf\"] = merged_df[\"tf_idf_x\"] + merged_df[\"tf_idf_y\"]\n",
    "    merged_df.drop([\"tf_idf_x\", \"tf_idf_y\"], axis = 1, inplace = True)\n",
    "    return merged_df"
   ]
  },
  {
   "cell_type": "code",
   "execution_count": 18,
   "metadata": {},
   "outputs": [],
   "source": [
    "def run(text) :\n",
    "    tokens, a, b = stem_file(text)\n",
    "    words = [token[0] for token in tokens]\n",
    "    stems = [token[1] for token in tokens]\n",
    "    scores = get_scores(words, stems)\n",
    "    scores.sort_values(\"tf_idf\", ascending = False, inplace = True)\n",
    "    return list(scores[\"filename\"])"
   ]
  },
  {
   "cell_type": "code",
   "execution_count": 19,
   "metadata": {},
   "outputs": [
    {
     "data": {
      "text/plain": [
       "['40.txt',\n",
       " '12.txt',\n",
       " '123.txt',\n",
       " '37.txt',\n",
       " '144.txt',\n",
       " '94.txt',\n",
       " '60.txt',\n",
       " '61.txt',\n",
       " '135.txt',\n",
       " '122.txt',\n",
       " '63.txt',\n",
       " '112.txt',\n",
       " '38.txt',\n",
       " '120.txt',\n",
       " '117.txt',\n",
       " '121.txt',\n",
       " '34.txt',\n",
       " '124.txt',\n",
       " '155.txt',\n",
       " '52.txt',\n",
       " '36.txt',\n",
       " '31.txt',\n",
       " '154.txt',\n",
       " '134.txt']"
      ]
     },
     "execution_count": 19,
     "metadata": {},
     "output_type": "execute_result"
    }
   ],
   "source": [
    "text = \"विख्यात हैमिग्व आत्म\"\n",
    "files = run(text)\n",
    "files"
   ]
  }
 ],
 "metadata": {
  "kernelspec": {
   "display_name": "Python 3",
   "language": "python",
   "name": "python3"
  },
  "language_info": {
   "codemirror_mode": {
    "name": "ipython",
    "version": 3
   },
   "file_extension": ".py",
   "mimetype": "text/x-python",
   "name": "python",
   "nbconvert_exporter": "python",
   "pygments_lexer": "ipython3",
   "version": "3.8.5"
  }
 },
 "nbformat": 4,
 "nbformat_minor": 4
}
